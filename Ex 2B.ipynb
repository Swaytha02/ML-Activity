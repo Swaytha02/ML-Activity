{
  "nbformat": 4,
  "nbformat_minor": 0,
  "metadata": {
    "colab": {
      "private_outputs": true,
      "provenance": []
    },
    "kernelspec": {
      "name": "python3",
      "display_name": "Python 3"
    },
    "language_info": {
      "name": "python"
    }
  },
  "cells": [
    {
      "cell_type": "code",
      "execution_count": null,
      "metadata": {
        "id": "GDnD9uD8dKAG"
      },
      "outputs": [],
      "source": [
        "import pandas as pd\n",
        "import numpy as np"
      ]
    },
    {
      "cell_type": "code",
      "source": [
        "data = pd.read_csv('/content/houseprice.csv')\n",
        "data.head()"
      ],
      "metadata": {
        "id": "bmqSTgZHdW1M"
      },
      "execution_count": null,
      "outputs": []
    },
    {
      "cell_type": "code",
      "source": [
        "data.isna().sum()"
      ],
      "metadata": {
        "id": "HI479t6BdW3t"
      },
      "execution_count": null,
      "outputs": []
    },
    {
      "cell_type": "code",
      "source": [
        "data.shape"
      ],
      "metadata": {
        "id": "3E_FFUhhdW6m"
      },
      "execution_count": null,
      "outputs": []
    },
    {
      "cell_type": "code",
      "source": [
        "data = data.replace('?',np.nan)\n",
        "data.head()"
      ],
      "metadata": {
        "id": "o0O1zol4dW9L"
      },
      "execution_count": null,
      "outputs": []
    },
    {
      "cell_type": "code",
      "source": [
        "data.fillna(data.mean(),inplace=True)\n",
        "data = data.dropna()"
      ],
      "metadata": {
        "id": "Ze-b_o1fdXAB"
      },
      "execution_count": null,
      "outputs": []
    },
    {
      "cell_type": "code",
      "source": [
        "data.corr()"
      ],
      "metadata": {
        "id": "1Sg8InXDdXCK"
      },
      "execution_count": null,
      "outputs": []
    },
    {
      "cell_type": "code",
      "source": [
        "x = data[['sqft_living','grade']]\n",
        "y = data[['price']]"
      ],
      "metadata": {
        "id": "A17gMF2BdXEu"
      },
      "execution_count": null,
      "outputs": []
    },
    {
      "cell_type": "code",
      "source": [
        "#Finding Linear Regression for the features\n",
        "from sklearn.linear_model import LinearRegression\n",
        "lr1=LinearRegression()\n",
        "lr1.fit(x.iloc[:,0:1],y)\n",
        "lr2=LinearRegression()\n",
        "lr2.fit(x.iloc[:,1:2],y)"
      ],
      "metadata": {
        "id": "ZOEAPK71f0Kn"
      },
      "execution_count": null,
      "outputs": []
    },
    {
      "cell_type": "code",
      "source": [
        "import seaborn as sns\n",
        "sns.heatmap(data.corr())"
      ],
      "metadata": {
        "id": "QE4X_tatgFG7"
      },
      "execution_count": null,
      "outputs": []
    },
    {
      "cell_type": "code",
      "source": [
        "import matplotlib.pyplot as plt\n",
        "plt.scatter(x.iloc[:,0:1],y)\n",
        "plt.plot(np.array(x.iloc[:,0:1]),lr1.predict(x.iloc[:,0:1]),color = \"Black\")"
      ],
      "metadata": {
        "id": "kOGHjb9Bf9KZ"
      },
      "execution_count": null,
      "outputs": []
    },
    {
      "cell_type": "code",
      "source": [
        "import matplotlib.pyplot as plt\n",
        "plt.scatter(x.iloc[:,1:2],y)\n",
        "plt.plot(np.array(x.iloc[:,1:2]),lr2.predict(x.iloc[:,1:2]),color = \"Red\")"
      ],
      "metadata": {
        "id": "REtBAccKf_V8"
      },
      "execution_count": null,
      "outputs": []
    },
    {
      "cell_type": "code",
      "source": [
        "from sklearn.metrics import r2_score,mean_squared_error\n",
        "print(\"Mean Sqaure Error Feature 1 : \",mean_squared_error(y,lr1.predict(x.iloc[:,0:1])))\n",
        "print(\"Linear Regression Feature 1 R2 Score : \",r2_score(y,lr1.predict(x.iloc[:,0:1])))\n",
        "print(\"Mean Sqaure Error Feature 2\",mean_squared_error(y,lr2.predict(x.iloc[:,1:2])))\n",
        "print(\"R2 Score 2 : \",r2_score(y,lr2.predict(x.iloc[:,1:2])))"
      ],
      "metadata": {
        "id": "01Jwn48CgNMZ"
      },
      "execution_count": null,
      "outputs": []
    },
    {
      "cell_type": "code",
      "source": [
        "from sklearn.preprocessing import PolynomialFeatures\n",
        "p = PolynomialFeatures(degree=3)\n",
        "x_poly = p.fit_transform(x)"
      ],
      "metadata": {
        "id": "e0M1UJSFhYCU"
      },
      "execution_count": null,
      "outputs": []
    },
    {
      "cell_type": "code",
      "source": [
        "from sklearn.linear_model import LinearRegression\n",
        "rg = LinearRegression()\n",
        "rg.fit(x_poly,y)"
      ],
      "metadata": {
        "id": "lwZixNygdXJW"
      },
      "execution_count": null,
      "outputs": []
    },
    {
      "cell_type": "code",
      "source": [
        "from sklearn.metrics import r2_score,mean_squared_error\n",
        "print(mean_squared_error(y,rg.predict(x_poly)))\n",
        "print(r2_score(y,rg.predict(x_poly)))"
      ],
      "metadata": {
        "id": "E2PCTMONdXL3"
      },
      "execution_count": null,
      "outputs": []
    },
    {
      "cell_type": "code",
      "source": [
        "import matplotlib.pyplot as plt\n",
        "x1_range=np.linspace(min(x.iloc[:,0]),max(x.iloc[:,0]),10)\n",
        "x2_range=np.linspace(min(x.iloc[:,1]),max(x.iloc[:,1]),10)\n",
        "x1_grid,x2_grid=np.meshgrid(x1_range,x2_range)\n",
        "x_grid_poly=p.transform(np.c_[x1_grid.ravel(),x2_grid.ravel()])\n",
        "y_grid=rg.predict(x_grid_poly).reshape(x1_grid.shape)\n",
        "fig=plt.figure()\n",
        "ax=fig.add_subplot(111,projection='3d')\n",
        "ax.scatter(x.iloc[:,0],x.iloc[:,1],y)\n",
        "ax.plot_surface(x1_grid,x2_grid,y_grid)\n",
        "plt.title(\"717822I59 SWAYTHA k\")"
      ],
      "metadata": {
        "id": "Li6da2w8dXPb"
      },
      "execution_count": null,
      "outputs": []
    }
  ]
}