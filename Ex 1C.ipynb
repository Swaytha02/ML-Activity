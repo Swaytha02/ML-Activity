{
  "nbformat": 4,
  "nbformat_minor": 0,
  "metadata": {
    "colab": {
      "private_outputs": true,
      "provenance": []
    },
    "kernelspec": {
      "name": "python3",
      "display_name": "Python 3"
    },
    "language_info": {
      "name": "python"
    }
  },
  "cells": [
    {
      "cell_type": "code",
      "execution_count": null,
      "metadata": {
        "id": "LT-sXkfUBQxl"
      },
      "outputs": [],
      "source": [
        "import pandas as pd\n",
        "import numpy as np"
      ]
    },
    {
      "cell_type": "code",
      "source": [
        "data =pd. read_csv('/content/startup-2.csv')\n",
        "data.head()"
      ],
      "metadata": {
        "id": "huOzeuoFIx2H"
      },
      "execution_count": null,
      "outputs": []
    },
    {
      "cell_type": "code",
      "source": [
        "data = data.iloc[:,1:]\n",
        "data.head(3)"
      ],
      "metadata": {
        "id": "VNkPqpHrJ-6M"
      },
      "execution_count": null,
      "outputs": []
    },
    {
      "cell_type": "code",
      "source": [
        "data.isna().sum()"
      ],
      "metadata": {
        "id": "jNzEbLsZKci0"
      },
      "execution_count": null,
      "outputs": []
    },
    {
      "cell_type": "code",
      "source": [
        "data['R&D Spend'] = data['R&D Spend'].fillna(data['R&D Spend'].mean())"
      ],
      "metadata": {
        "id": "ZrqWosiRLn5v"
      },
      "execution_count": null,
      "outputs": []
    },
    {
      "cell_type": "code",
      "source": [
        "data['Administration'] = data['Administration'].fillna(data['Administration'].mean())"
      ],
      "metadata": {
        "id": "KcmOV-LKKt23"
      },
      "execution_count": null,
      "outputs": []
    },
    {
      "cell_type": "code",
      "source": [
        "from sklearn.impute import SimpleImputer\n",
        "impute = SimpleImputer(missing_values=np.nan,strategy='most_frequent')\n",
        "data['State']=impute.fit_transform(data[['State']])"
      ],
      "metadata": {
        "id": "HoWhrkz7L51n"
      },
      "execution_count": null,
      "outputs": []
    },
    {
      "cell_type": "code",
      "source": [
        "from sklearn.impute import SimpleImputer\n",
        "impute = SimpleImputer(missing_values=np.nan,strategy='mean')\n",
        "data['Profit']=impute.fit_transform(data[['Profit']])\n",
        "data.head()"
      ],
      "metadata": {
        "id": "MSfLziZMMLaX"
      },
      "execution_count": null,
      "outputs": []
    },
    {
      "cell_type": "code",
      "source": [
        "data = pd.get_dummies(data, columns=['State'])"
      ],
      "metadata": {
        "id": "fqtovQbpO2Wz"
      },
      "execution_count": null,
      "outputs": []
    },
    {
      "cell_type": "code",
      "source": [
        "x = data.iloc[:,[0,1,2,4,5,6]]\n",
        "y = data.iloc[:,[3]]"
      ],
      "metadata": {
        "id": "CHPJ-mnISVlQ"
      },
      "execution_count": null,
      "outputs": []
    },
    {
      "cell_type": "code",
      "source": [
        "data.head()"
      ],
      "metadata": {
        "id": "3Bb1ty8DPK8-"
      },
      "execution_count": null,
      "outputs": []
    },
    {
      "cell_type": "code",
      "source": [
        "x.head(2)"
      ],
      "metadata": {
        "id": "jPySHZYOVWs7"
      },
      "execution_count": null,
      "outputs": []
    },
    {
      "cell_type": "code",
      "source": [
        "y.head(2)"
      ],
      "metadata": {
        "id": "KrwUmz0RVWvi"
      },
      "execution_count": null,
      "outputs": []
    },
    {
      "cell_type": "code",
      "source": [
        "import seaborn as sns\n",
        "sns.heatmap(data.corr(),annot =True)"
      ],
      "metadata": {
        "id": "cjCNYv1LVWxs"
      },
      "execution_count": null,
      "outputs": []
    },
    {
      "cell_type": "code",
      "source": [
        "#from sklearn.model_selection import train_test_split\n",
        "#x_train,x_test,y_train,y_test=train_test_split(x,y,test_size=0.2,random_state=1)"
      ],
      "metadata": {
        "id": "EmfNYUCbc6Ul"
      },
      "execution_count": null,
      "outputs": []
    },
    {
      "cell_type": "code",
      "source": [
        "from sklearn.linear_model import LinearRegression\n",
        "rg = LinearRegression()\n",
        "rg.fit(x,y)"
      ],
      "metadata": {
        "id": "YThlP_K8VW1I"
      },
      "execution_count": null,
      "outputs": []
    },
    {
      "cell_type": "code",
      "source": [
        "rg.coef_,rg.intercept_"
      ],
      "metadata": {
        "id": "a_idaaWSVW4s"
      },
      "execution_count": null,
      "outputs": []
    },
    {
      "cell_type": "code",
      "source": [
        "y_predict = rg.predict(x)"
      ],
      "metadata": {
        "id": "2ThgH4lFXJ5E"
      },
      "execution_count": null,
      "outputs": []
    },
    {
      "cell_type": "code",
      "source": [
        "from sklearn.metrics import r2_score,mean_squared_error\n",
        "r2_score(y,y_predict)"
      ],
      "metadata": {
        "id": "rIL93tszWv9c"
      },
      "execution_count": null,
      "outputs": []
    },
    {
      "cell_type": "code",
      "source": [
        "import matplotlib.pyplot as plt"
      ],
      "metadata": {
        "id": "7uzPpZ2P9AIb"
      },
      "execution_count": null,
      "outputs": []
    },
    {
      "cell_type": "code",
      "source": [
        "# Assuming x and y are defined properly elsewhere in your code\n",
        "# Generating grid points for R&D Spend and Administration (assuming they are the first two columns)\n",
        "x1_range = np.linspace(min(x.iloc[:, 0]), max(x.iloc[:, 0]), 10)\n",
        "x2_range = np.linspace(min(x.iloc[:, 1]), max(x.iloc[:, 1]), 10)\n",
        "X1_grid, X2_grid = np.meshgrid(x1_range, x2_range)\n",
        "\n",
        "# Assuming rg is your trained model\n",
        "# Predicting with all features including State variables\n",
        "X_grid = np.column_stack((X1_grid.ravel(), X2_grid.ravel(),\n",
        "                          np.zeros_like(X1_grid.ravel()),\n",
        "                          np.zeros_like(X1_grid.ravel()),\n",
        "                          np.zeros_like(X1_grid.ravel()),\n",
        "                          np.zeros_like(X1_grid.ravel())))\n",
        "Y_grid = rg.predict(X_grid).reshape(X1_grid.shape)\n",
        "\n",
        "# Creating the 3D plot\n",
        "fig = plt.figure()\n",
        "ax = fig.add_subplot(111, projection='3d')\n",
        "\n",
        "# Plotting the plane of best fit using only R&D Spend and Administration\n",
        "ax.plot_surface(X1_grid, X2_grid, Y_grid, alpha=0.5)\n",
        "\n",
        "# Adding labels and legend\n",
        "ax.set_xlabel('R&D Spend')\n",
        "ax.set_ylabel('Administration')\n",
        "ax.set_zlabel('Profit')\n",
        "ax.set_title('Multiple Linear Regression 717822I259')\n",
        "\n",
        "# Show the plot\n",
        "plt.show()"
      ],
      "metadata": {
        "id": "BWuAbm8uWwHc"
      },
      "execution_count": null,
      "outputs": []
    },
    {
      "cell_type": "code",
      "source": [],
      "metadata": {
        "id": "bPXxGIlqWwK-"
      },
      "execution_count": null,
      "outputs": []
    }
  ]
}