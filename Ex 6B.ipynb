{
  "nbformat": 4,
  "nbformat_minor": 0,
  "metadata": {
    "colab": {
      "private_outputs": true,
      "provenance": []
    },
    "kernelspec": {
      "name": "python3",
      "display_name": "Python 3"
    },
    "language_info": {
      "name": "python"
    }
  },
  "cells": [
    {
      "cell_type": "code",
      "execution_count": null,
      "metadata": {
        "id": "qg7WywrJkJUn"
      },
      "outputs": [],
      "source": [
        "from sklearn.datasets import load_digits\n",
        "digits = load_digits()"
      ]
    },
    {
      "cell_type": "code",
      "source": [
        "digits"
      ],
      "metadata": {
        "id": "6WNpW5UGkUva"
      },
      "execution_count": null,
      "outputs": []
    },
    {
      "cell_type": "code",
      "source": [
        "import matplotlib.pyplot as plt\n",
        "plt.gray()\n",
        "plt.matshow(digits.images[1794])"
      ],
      "metadata": {
        "id": "1DbhrfOFkUxq"
      },
      "execution_count": null,
      "outputs": []
    },
    {
      "cell_type": "code",
      "source": [
        "digits.target[1794]"
      ],
      "metadata": {
        "id": "M0TSIGFOkUzw"
      },
      "execution_count": null,
      "outputs": []
    },
    {
      "cell_type": "code",
      "source": [
        "from sklearn.model_selection import train_test_split\n",
        "x_train,x_test,y_train,y_test=train_test_split(digits.data,digits.target,test_size=0.2,random_state=1)"
      ],
      "metadata": {
        "id": "WfvzLU86kU16"
      },
      "execution_count": null,
      "outputs": []
    },
    {
      "cell_type": "code",
      "source": [
        "x_train.shape,x_test.shape,y_train.shape,y_test.shape"
      ],
      "metadata": {
        "id": "YfrQvhFQkU4J"
      },
      "execution_count": null,
      "outputs": []
    },
    {
      "cell_type": "code",
      "source": [
        "from sklearn.linear_model import LogisticRegression\n",
        "l=LogisticRegression()\n",
        "l.fit(x_train,y_train)"
      ],
      "metadata": {
        "id": "j1fr8h5HkU6W"
      },
      "execution_count": null,
      "outputs": []
    },
    {
      "cell_type": "code",
      "source": [
        "y_pred=l.predict(x_test)"
      ],
      "metadata": {
        "id": "25NZVctwkf8h"
      },
      "execution_count": null,
      "outputs": []
    },
    {
      "cell_type": "code",
      "source": [
        "l.predict(x_test[0:4])"
      ],
      "metadata": {
        "id": "Tc45eRSa1-2t"
      },
      "execution_count": null,
      "outputs": []
    },
    {
      "cell_type": "code",
      "source": [
        "import numpy as np\n",
        "plt.gray()\n",
        "plt.matshow(np.array(x_test[0:4]).reshape(16,16))\n",
        "plt.title(\"Swaytha K 717822i259\")"
      ],
      "metadata": {
        "id": "Y88xfwiF2FSx"
      },
      "execution_count": null,
      "outputs": []
    },
    {
      "cell_type": "code",
      "source": [
        "from sklearn.metrics import accuracy_score\n",
        "print(accuracy_score(y_test,y_pred))"
      ],
      "metadata": {
        "id": "I2JVglcukf5M"
      },
      "execution_count": null,
      "outputs": []
    },
    {
      "cell_type": "code",
      "source": [
        "from sklearn.metrics import confusion_matrix as cm\n",
        "cm(y_test,y_pred)"
      ],
      "metadata": {
        "id": "uiPTOgJNkf3A"
      },
      "execution_count": null,
      "outputs": []
    },
    {
      "cell_type": "code",
      "source": [
        "import seaborn as sns\n",
        "sns.heatmap(cm(y_test,y_pred),annot=True)\n",
        "plt.title(\"Swaytha K 717822i259\")"
      ],
      "metadata": {
        "id": "nWzvvgP7kf1D"
      },
      "execution_count": null,
      "outputs": []
    },
    {
      "cell_type": "code",
      "source": [
        "from sklearn.metrics import classification_report as cr\n",
        "print(cr(y_test,y_pred))"
      ],
      "metadata": {
        "id": "5MI4e8UGkfyo"
      },
      "execution_count": null,
      "outputs": []
    }
  ]
}