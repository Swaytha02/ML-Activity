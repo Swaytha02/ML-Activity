{
  "nbformat": 4,
  "nbformat_minor": 0,
  "metadata": {
    "colab": {
      "private_outputs": true,
      "provenance": []
    },
    "kernelspec": {
      "name": "python3",
      "display_name": "Python 3"
    },
    "language_info": {
      "name": "python"
    }
  },
  "cells": [
    {
      "cell_type": "code",
      "source": [
        "import pandas as pd\n",
        "import numpy as np\n",
        "import matplotlib.pyplot as plt"
      ],
      "metadata": {
        "id": "kphfQS_0Htbs"
      },
      "execution_count": null,
      "outputs": []
    },
    {
      "cell_type": "code",
      "execution_count": null,
      "metadata": {
        "id": "lpK_fvOukTBG"
      },
      "outputs": [],
      "source": [
        "data = pd.read_csv(\"/content/Position_Salaries.csv\")\n",
        "data.head(2)"
      ]
    },
    {
      "cell_type": "code",
      "source": [
        "data.corr()"
      ],
      "metadata": {
        "id": "PaDCiIF1ISo-"
      },
      "execution_count": null,
      "outputs": []
    },
    {
      "cell_type": "code",
      "source": [
        "x = data[['Level']]\n",
        "y = data[['Salary']]"
      ],
      "metadata": {
        "id": "YjW7xwLzlkwQ"
      },
      "execution_count": null,
      "outputs": []
    },
    {
      "cell_type": "code",
      "source": [
        "x.head(2)"
      ],
      "metadata": {
        "id": "3ejp7lsMl02w"
      },
      "execution_count": null,
      "outputs": []
    },
    {
      "cell_type": "code",
      "source": [
        "y.head(2)"
      ],
      "metadata": {
        "id": "HAiBp0ormn1b"
      },
      "execution_count": null,
      "outputs": []
    },
    {
      "cell_type": "code",
      "source": [
        "from sklearn.model_selection import train_test_split\n",
        "x_train,x_test,y_train,y_test = train_test_split(x,y,test_size = 0.2,random_state = 1)"
      ],
      "metadata": {
        "id": "yuz97xdMHCp-"
      },
      "execution_count": null,
      "outputs": []
    },
    {
      "cell_type": "code",
      "source": [
        "#Checking Linear Regression and Residual\n",
        "from sklearn.linear_model import LinearRegression\n",
        "rg = LinearRegression()\n",
        "rg.fit(x_train,y_train)"
      ],
      "metadata": {
        "id": "MVTPoFdEHK_8"
      },
      "execution_count": null,
      "outputs": []
    },
    {
      "cell_type": "code",
      "source": [
        "rg.coef_,rg.intercept_"
      ],
      "metadata": {
        "id": "4-TagZ9KHXd1"
      },
      "execution_count": null,
      "outputs": []
    },
    {
      "cell_type": "code",
      "source": [
        "#Plotting the linear regression model.\n",
        "plt.scatter(x_train,y_train)\n",
        "plt.plot(np.array(x_train),rg.predict(x_train),color = \"Black\")\n",
        "plt.title(\"Linear Regression 717822I259 SWAYTHA K\")\n",
        "plt.xlabel(\"Level\")\n",
        "plt.ylabel(\"Salary\")"
      ],
      "metadata": {
        "id": "ynP64n8tHiFs"
      },
      "execution_count": null,
      "outputs": []
    },
    {
      "cell_type": "markdown",
      "source": [
        "The linear regression does not show the expected result in this type of curvy-linear relationship between the data. Hence, we are converting the linear equation into a quadratic equation of nth degree. The higher the degree, the higher the possibility of overfitting occurring."
      ],
      "metadata": {
        "id": "eL40RYKDJYaZ"
      }
    },
    {
      "cell_type": "code",
      "source": [
        "from sklearn.preprocessing import PolynomialFeatures\n",
        "pf=PolynomialFeatures(degree=2)\n",
        "x_poly=pf.fit_transform(x)"
      ],
      "metadata": {
        "id": "q7dWiysil-gc"
      },
      "execution_count": null,
      "outputs": []
    },
    {
      "cell_type": "code",
      "source": [
        "rg.fit(x_poly,y)"
      ],
      "metadata": {
        "id": "7A030csdnJkI"
      },
      "execution_count": null,
      "outputs": []
    },
    {
      "cell_type": "code",
      "source": [
        "import matplotlib.pyplot as plt\n",
        "plt.scatter(x,y)\n",
        "plt.title(\"Polynomial regression 717822i259\")\n",
        "plt.plot(x,rg.predict(x_poly))"
      ],
      "metadata": {
        "id": "MxG137SEngYu"
      },
      "execution_count": null,
      "outputs": []
    }
  ]
}