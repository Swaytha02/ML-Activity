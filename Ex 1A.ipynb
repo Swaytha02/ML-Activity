{
  "nbformat": 4,
  "nbformat_minor": 0,
  "metadata": {
    "colab": {
      "private_outputs": true,
      "provenance": []
    },
    "kernelspec": {
      "name": "python3",
      "display_name": "Python 3"
    },
    "language_info": {
      "name": "python"
    }
  },
  "cells": [
    {
      "cell_type": "code",
      "execution_count": null,
      "metadata": {
        "id": "nX8-MwV-Nflh"
      },
      "outputs": [],
      "source": [
        "import numpy as np"
      ]
    },
    {
      "cell_type": "code",
      "source": [
        "def gradient_descent(x,y):\n",
        "  m_curr = b_curr = 0\n",
        "  iterations = 1000\n",
        "  learning_rate = 0.08\n",
        "  n = len(x)\n",
        "  y_p = []\n",
        "\n",
        "  for i in range(iterations):\n",
        "    y_predicted = b_curr+m_curr * x\n",
        "    y_p.append(y_predicted)\n",
        "    cost = (1/n) * sum([val**2 for val in (y-y_predicted)])\n",
        "    md = -(2/n) * sum(x * (y-y_predicted))\n",
        "    bd = -(2/n) * sum(y- y_predicted)\n",
        "    b_curr = b_curr - learning_rate * bd\n",
        "    m_curr = m_curr - learning_rate * md\n",
        "    print('m{}, b{}, cost{}, iteration{}'.format(m_curr,b_curr,cost,i))\n",
        "  return y_p\n",
        "\n",
        "x=np.array([1,2,3,4,5])\n",
        "y=np.array([5,7,9,11,13])\n",
        "\n",
        "y_p=gradient_descent(x,y)\n",
        "print(y_p)"
      ],
      "metadata": {
        "id": "SdrJ_0sBNmhB"
      },
      "execution_count": null,
      "outputs": []
    },
    {
      "cell_type": "code",
      "source": [
        "import matplotlib.pyplot as plt\n",
        "plt.scatter(x,y)\n",
        "for i in y_p:\n",
        "  plt.plot(x,i)\n",
        "plt.xlabel('x data')\n",
        "plt.ylabel('y data')\n",
        "plt.title('717822i259 SWAYTHA')"
      ],
      "metadata": {
        "id": "1jrMCq9tUs62"
      },
      "execution_count": null,
      "outputs": []
    },
    {
      "cell_type": "code",
      "source": [],
      "metadata": {
        "id": "bWgFA_mPUtCN"
      },
      "execution_count": null,
      "outputs": []
    },
    {
      "cell_type": "code",
      "source": [],
      "metadata": {
        "id": "FC0w3lLqUtE1"
      },
      "execution_count": null,
      "outputs": []
    },
    {
      "cell_type": "code",
      "source": [],
      "metadata": {
        "id": "XBQou8RDUtHV"
      },
      "execution_count": null,
      "outputs": []
    }
  ]
}